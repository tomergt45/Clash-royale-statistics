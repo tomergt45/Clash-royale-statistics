{
 "cells": [
  {
   "cell_type": "code",
   "execution_count": 151,
   "metadata": {},
   "outputs": [],
   "source": [
    "from numpy import *\n",
    "from lxml import html\n",
    "import matplotlib.pyplot as plt\n",
    "import math\n",
    "import numpy as np\n",
    "import lxml\n",
    "import requests\n",
    "import datetime\n",
    "import pandas"
   ]
  },
  {
   "cell_type": "markdown",
   "metadata": {},
   "source": [
    "# Function"
   ]
  },
  {
   "cell_type": "code",
   "execution_count": 47,
   "metadata": {
    "scrolled": true
   },
   "outputs": [],
   "source": [
    "# Function takes player tag as an input, returns the battle history\n",
    "# of the given player\n",
    "def getPlayerBattles(playerTag):\n",
    "    # Create local variables\n",
    "    battles = []\n",
    "    \n",
    "    # Define url for the specified player\n",
    "    url = \"https://royaleapi.com/player/\" + str(playerTag) + \"/battles\"\n",
    "    \n",
    "    # Request and receive the page HTML\n",
    "    page = requests.get(url)\n",
    "    \n",
    "    # Get the root HTML element\n",
    "    root = html.fromstring(page.content)\n",
    "    \n",
    "    # Find all PvP battles (excluding friendly & tournament)\n",
    "    # and iterate through each of them\n",
    "    for battle in root.xpath('//div[@data-battle-type=\"PvP\"]'):\n",
    "        # Create local variables\n",
    "        cards = []\n",
    "        \n",
    "        # Get the date of the battle. Parse the received timestamp to an integer and\n",
    "        # then convert the timestamp to datetime\n",
    "        date = datetime.date.fromtimestamp(int(battle.attrib['data-timestamp'].split('.')[0]))\n",
    "        \n",
    "        # Get player and enemy's tags\n",
    "        player_tag, enemy_tag = [i.strip().split('/')[2] for i in battle.xpath('.//a[contains(@class, \"player_name_header\")]/@href')]\n",
    "\n",
    "        # Get player and enemy's crown level\n",
    "        # why another function: read separate function description, in short, website does not\n",
    "        # explicitly provide the levels\n",
    "        player_level, enemy_level = getPlayerLevel(player_tag), getPlayerLevel(enemy_tag)\n",
    "        \n",
    "        # Get achived crowns for player and enemy\n",
    "        player_crowns, enemy_crowns = [[int(i) for i in i.strip().split()[::2]] for i in battle.xpath('.//h5/text()') if i.strip() != ''][0]\n",
    "        \n",
    "        # Get usernames and strip any whitespaces or special characters\n",
    "        player_name, enemy_name = [i.strip() for i in battle.xpath('.//a[contains(@class, \"player_name_header\")]/text()')][:2]\n",
    "        \n",
    "        # Get trophies count before battle started\n",
    "        player_trophies, enemy_trophies = battle.xpath('.//div[@class=\"trophy_container\"]/div[@class=\"ui label\"]/text()')\n",
    "        \n",
    "        # Iterating through each cards container, getting all cards names and levels independently\n",
    "        # then zipping names and levels into one collection.\n",
    "        player_cards, enemy_cards = [list(zip(cards.xpath('.//img/@alt'), [int(i.strip()) for i in cards.xpath('.//div[contains(@class, \"card-level\")]/text()')])) for cards in battle.xpath('.//div[@class=\"ui padded grid\"]')]\n",
    "        \n",
    "        # Push all data of the current battle into the battles array\n",
    "        battles += [{\n",
    "            'Date': date,\n",
    "            'Player Tag': player_tag,\n",
    "            'Player Name': player_name,\n",
    "            'Player Level': player_level,\n",
    "            'Player Crowns': player_crowns,\n",
    "            'Player Trophies': player_trophies,\n",
    "            'Player Cards': player_cards,\n",
    "            'Enemy Tag': enemy_tag,\n",
    "            'Enemy Name': enemy_name,\n",
    "            'Enemy Level': enemy_level,\n",
    "            'Enemy Crowns': enemy_crowns,\n",
    "            'Enemy Trophies': enemy_trophies,\n",
    "            'Enemy Cards': enemy_cards,\n",
    "        }]\n",
    "    \n",
    "    # Return the battles history array\n",
    "    return battles\n",
    "\n",
    "# Unfortunately, the website used to retrive the information does not explicitly provide\n",
    "# the player level, appearntly it can be obtained only from the player's clan page, hence\n",
    "# the additional function.\n",
    "def getPlayerLevel(playerTag):\n",
    "    # If any exception raised, try refreshing the website's info\n",
    "    # about the specified player and then try again\n",
    "    try:\n",
    "        # Define url for the specified player\n",
    "        url = 'https://statsroyale.com/profile/' + str(playerTag)\n",
    "    \n",
    "        # Request and receive the page HTML\n",
    "        page = requests.get(url)\n",
    "\n",
    "        # Get the root HTML element\n",
    "        root = html.fromstring(page.content)\n",
    "\n",
    "        # Get the level value from the html and parse it into an integer\n",
    "        level = int(root.xpath('//span[@class=\"profileHeader__userLevel\"]/text()')[0])\n",
    "    \n",
    "    # Fired when an exception is raised\n",
    "    except:\n",
    "        # Refresh the website's info about the player\n",
    "        page = requests.get(url + '/refresh')\n",
    "        \n",
    "        # Try retriving the player's level again\n",
    "        return getPlayerLevel(playerTag)\n",
    "        \n",
    "    # Return the received level value\n",
    "    return level"
   ]
  },
  {
   "cell_type": "code",
   "execution_count": null,
   "metadata": {},
   "outputs": [],
   "source": []
  },
  {
   "cell_type": "markdown",
   "metadata": {},
   "source": [
    "\n",
    "# Runtime"
   ]
  },
  {
   "cell_type": "code",
   "execution_count": 48,
   "metadata": {
    "scrolled": false
   },
   "outputs": [],
   "source": [
    "# Create local variables\n",
    "battle_log = []\n",
    "\n",
    "# List of players by their player tag, used to retrive their battle history\n",
    "players = ['ulgull0l', 'JUP0L0Y9']\n",
    "\n",
    "# Iterate through the list of players\n",
    "for playerTag in players:\n",
    "    # Retrive player battle history\n",
    "    battles = getPlayerBattles(playerTag)\n",
    "    \n",
    "    # Push the current player's battles into the battle log\n",
    "    battle_log += battles\n",
    "\n",
    "# Set battle log as numpy array\n",
    "battle_log = array(battle_log)\n",
    "\n",
    "# Iterate thorugh each of the battles in the battle log\n",
    "for battle in battle_log:\n",
    "    print('==============================')\n",
    "    print(' Player:', battle['Player Name'])\n",
    "    print(' Trophies:', battle['Player Trophies'])\n",
    "    print(' Cards:', array(battle['Player Cards'])[:,0])\n",
    "    print('-----------------------------')\n",
    "    print(' Enemy:', battle['Enemy Name'])\n",
    "    print(' Trophies:', battle['Enemy Trophies'])\n",
    "    print(' Cards:', array(battle['Enemy Cards'])[:,0])\n",
    "    print('==============================\\n')\n",
    "    "
   ]
  },
  {
   "cell_type": "code",
   "execution_count": 220,
   "metadata": {
    "scrolled": true
   },
   "outputs": [
    {
     "data": {
      "text/plain": [
       "[<matplotlib.lines.Line2D at 0x202845ea828>]"
      ]
     },
     "execution_count": 220,
     "metadata": {},
     "output_type": "execute_result"
    },
    {
     "data": {
      "image/png": "[encoded data removed]",
      "text/plain": [
       "<Figure size 432x288 with 1 Axes>"
      ]
     },
     "metadata": {
      "needs_background": "light"
     },
     "output_type": "display_data"
    }
   ],
   "source": [
    "average_enemy_level = average(list(map(lambda i: i['Enemy Level'], battle_log)))\n",
    "average_enemy_cards_level = average(array(list(map(lambda i: array(i['Enemy Cards'])[:,1], battle_log)), int).flatten())\n",
    "\n",
    "card_appearance_count_list = {}\n",
    "for card in array(list(map(lambda i: array(i['Enemy Cards'])[:,0], battle_log))).flatten():\n",
    "    if card not in card_appearance_count_list:\n",
    "        card_appearance_count_list[card] = 1\n",
    "    else:\n",
    "        card_appearance_count_list[card] += 1\n",
    "\n",
    "columns = sorted(card_appearance_count_list, key=lambda i: card_appearance_count_list[i], reverse=True)\n",
    "values = [card_appearance_count_list[i] for i in sorted(card_appearance_count_list, key=lambda i: card_appearance_count_list[i], reverse=True)]\n",
    "\n",
    "plt.plot([1,2]) # density"
   ]
  },
  {
   "cell_type": "code",
   "execution_count": null,
   "metadata": {
    "scrolled": true
   },
   "outputs": [],
   "source": []
  }
 ],
 "metadata": {
  "kernelspec": {
   "display_name": "Python 3",
   "language": "python",
   "name": "python3"
  },
  "language_info": {
   "codemirror_mode": {
    "name": "ipython",
    "version": 3
   },
   "file_extension": ".py",
   "mimetype": "text/x-python",
   "name": "python",
   "nbconvert_exporter": "python",
   "pygments_lexer": "ipython3",
   "version": "3.7.3"
  }
 },
 "nbformat": 4,
 "nbformat_minor": 2
}
